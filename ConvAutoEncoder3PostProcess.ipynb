{
 "cells": [
  {
   "cell_type": "markdown",
   "metadata": {},
   "source": [
    "# Convolutional Autoencoder ver. 3.0 - Post Process"
   ]
  },
  {
   "cell_type": "markdown",
   "metadata": {},
   "source": [
    "## 1. initialize"
   ]
  },
  {
   "cell_type": "code",
   "execution_count": 1,
   "metadata": {},
   "outputs": [],
   "source": [
    "import tensorflow as tf\n",
    "import numpy as np\n",
    "import pandas as pd\n",
    "import pickle\n",
    "import time as tm\n",
    "import os\n",
    "import matplotlib.pyplot as plt\n",
    "import PIL\n",
    "from tensorflow.keras.models import load_model\n",
    "\n",
    "%matplotlib inline"
   ]
  },
  {
   "cell_type": "code",
   "execution_count": 2,
   "metadata": {},
   "outputs": [],
   "source": [
    "np.random.seed(1) # to make the results reproducible"
   ]
  },
  {
   "cell_type": "code",
   "execution_count": 3,
   "metadata": {},
   "outputs": [],
   "source": [
    "# TensorFlow 2.1, Keras - workaround:\n",
    "config = tf.compat.v1.ConfigProto()\n",
    "config.gpu_options.allow_growth = True\n",
    "config.gpu_options.per_process_gpu_memory_fraction = 0.9\n",
    "tf.compat.v1.keras.backend.set_session(tf.compat.v1.Session(config=config))"
   ]
  },
  {
   "cell_type": "code",
   "execution_count": 4,
   "metadata": {},
   "outputs": [
    {
     "name": "stdout",
     "output_type": "stream",
     "text": [
      "197 train data file(s) found.\n"
     ]
    }
   ],
   "source": [
    "# Detect the number of train data mini batches. Shuffle them and divide into a train/test parts.\n",
    "\n",
    "fname_pattern = \"./bengaliai-cv19/train_batch_{:03d}.pickle\"\n",
    "train_test_split = 0.7\n",
    "\n",
    "mbatch_no = 0\n",
    "while os.path.exists(fname_pattern.format(mbatch_no)):\n",
    "    mbatch_no = mbatch_no + 1\n",
    "print(\"{} train data file(s) found.\".format(mbatch_no))\n",
    "\n",
    "mbatch_train_no = round(mbatch_no * 0.7)\n",
    "mbatch_test_no = mbatch_no - mbatch_train_no\n",
    "mbatch_idx = np.random.permutation(mbatch_no)\n",
    "mbatch_train_idx = mbatch_idx[:mbatch_train_no]\n",
    "mbatch_test_idx = mbatch_idx[mbatch_train_no:]"
   ]
  },
  {
   "cell_type": "markdown",
   "metadata": {},
   "source": [
    "## 2. Helper functions"
   ]
  },
  {
   "cell_type": "code",
   "execution_count": 5,
   "metadata": {},
   "outputs": [],
   "source": [
    "def load_batch(mbatch_no):\n",
    "    fname = fname_pattern.format(mbatch_no)\n",
    "    with open(fname, \"rb\") as f:\n",
    "        batch = pickle.load(f)\n",
    "        return batch"
   ]
  },
  {
   "cell_type": "code",
   "execution_count": 6,
   "metadata": {},
   "outputs": [],
   "source": [
    "def prepare_image(img):\n",
    "    pil_img = PIL.Image.fromarray(img)\n",
    "    new_pil_img = pil_img.resize((256, 256), PIL.Image.ANTIALIAS)\n",
    "    return np.array(new_pil_img)"
   ]
  },
  {
   "cell_type": "code",
   "execution_count": 7,
   "metadata": {},
   "outputs": [],
   "source": [
    "def prepare_batch(batch):\n",
    "    new_X = np.zeros((batch['X'].shape[0], 256, 256), dtype=float)\n",
    "    for i in range(new_X.shape[0]):\n",
    "        new_X[i, :, :] = prepare_image(batch['X'][i, :, :])\n",
    "    batch['X'] = new_X"
   ]
  },
  {
   "cell_type": "markdown",
   "metadata": {},
   "source": [
    "## 3. Load model"
   ]
  },
  {
   "cell_type": "code",
   "execution_count": 8,
   "metadata": {},
   "outputs": [],
   "source": [
    "model = load_model('output/model-v3.0.h5')"
   ]
  },
  {
   "cell_type": "markdown",
   "metadata": {},
   "source": [
    "## 4. Create submodel"
   ]
  },
  {
   "cell_type": "code",
   "execution_count": 9,
   "metadata": {},
   "outputs": [
    {
     "name": "stdout",
     "output_type": "stream",
     "text": [
      "Model: \"model\"\n",
      "_________________________________________________________________\n",
      "Layer (type)                 Output Shape              Param #   \n",
      "=================================================================\n",
      "input_1 (InputLayer)         [(None, 256, 256, 1)]     0         \n",
      "_________________________________________________________________\n",
      "conv2d (Conv2D)              (None, 256, 256, 4)       328       \n",
      "_________________________________________________________________\n",
      "batch_normalization (BatchNo (None, 256, 256, 4)       16        \n",
      "_________________________________________________________________\n",
      "leaky_re_lu (LeakyReLU)      (None, 256, 256, 4)       0         \n",
      "_________________________________________________________________\n",
      "max_pooling2d (MaxPooling2D) (None, 128, 128, 4)       0         \n",
      "_________________________________________________________________\n",
      "conv2d_1 (Conv2D)            (None, 128, 128, 8)       2600      \n",
      "_________________________________________________________________\n",
      "batch_normalization_1 (Batch (None, 128, 128, 8)       32        \n",
      "_________________________________________________________________\n",
      "leaky_re_lu_1 (LeakyReLU)    (None, 128, 128, 8)       0         \n",
      "_________________________________________________________________\n",
      "max_pooling2d_1 (MaxPooling2 (None, 64, 64, 8)         0         \n",
      "_________________________________________________________________\n",
      "conv2d_2 (Conv2D)            (None, 64, 64, 16)        10384     \n",
      "_________________________________________________________________\n",
      "batch_normalization_2 (Batch (None, 64, 64, 16)        64        \n",
      "_________________________________________________________________\n",
      "leaky_re_lu_2 (LeakyReLU)    (None, 64, 64, 16)        0         \n",
      "_________________________________________________________________\n",
      "max_pooling2d_2 (MaxPooling2 (None, 32, 32, 16)        0         \n",
      "_________________________________________________________________\n",
      "conv2d_3 (Conv2D)            (None, 32, 32, 16)        20752     \n",
      "_________________________________________________________________\n",
      "batch_normalization_3 (Batch (None, 32, 32, 16)        64        \n",
      "_________________________________________________________________\n",
      "leaky_re_lu_3 (LeakyReLU)    (None, 32, 32, 16)        0         \n",
      "_________________________________________________________________\n",
      "max_pooling2d_3 (MaxPooling2 (None, 16, 16, 16)        0         \n",
      "_________________________________________________________________\n",
      "conv2d_4 (Conv2D)            (None, 16, 16, 16)        20752     \n",
      "_________________________________________________________________\n",
      "batch_normalization_4 (Batch (None, 16, 16, 16)        64        \n",
      "_________________________________________________________________\n",
      "leaky_re_lu_4 (LeakyReLU)    (None, 16, 16, 16)        0         \n",
      "_________________________________________________________________\n",
      "max_pooling2d_4 (MaxPooling2 (None, 8, 8, 16)          0         \n",
      "_________________________________________________________________\n",
      "conv2d_5 (Conv2D)            (None, 8, 8, 16)          20752     \n",
      "_________________________________________________________________\n",
      "batch_normalization_5 (Batch (None, 8, 8, 16)          64        \n",
      "_________________________________________________________________\n",
      "leaky_re_lu_5 (LeakyReLU)    (None, 8, 8, 16)          0         \n",
      "_________________________________________________________________\n",
      "max_pooling2d_5 (MaxPooling2 (None, 4, 4, 16)          0         \n",
      "=================================================================\n",
      "Total params: 75,872\n",
      "Trainable params: 75,720\n",
      "Non-trainable params: 152\n",
      "_________________________________________________________________\n"
     ]
    }
   ],
   "source": [
    "X = tf.keras.layers.Input(shape=[256, 256, 1], dtype=tf.float32)\n",
    "\n",
    "Z1 = tf.keras.layers.Conv2D(filters=4, kernel_size=[9,9], strides=[1,1], padding=\"same\", dilation_rate=[1,1])(X)\n",
    "B1 = tf.keras.layers.BatchNormalization(axis=3)(Z1)\n",
    "A1 = tf.keras.layers.LeakyReLU(alpha=0.1)(B1)\n",
    "P1 = tf.keras.layers.MaxPool2D(pool_size=[2,2], strides=[2,2], padding=\"same\")(A1)\n",
    "\n",
    "Z2 = tf.keras.layers.Conv2D(filters=8, kernel_size=[9,9], strides=[1,1], padding=\"same\", dilation_rate=[1,1])(P1)\n",
    "B2 = tf.keras.layers.BatchNormalization(axis=3)(Z2)\n",
    "A2 = tf.keras.layers.LeakyReLU(alpha=0.1)(B2)\n",
    "P2 = tf.keras.layers.MaxPool2D(pool_size=[2,2], strides=[2,2], padding=\"same\")(A2)\n",
    "\n",
    "Z3 = tf.keras.layers.Conv2D(filters=16, kernel_size=[9,9], strides=[1,1], padding=\"same\", dilation_rate=[1,1])(P2)\n",
    "B3 = tf.keras.layers.BatchNormalization(axis=3)(Z3)\n",
    "A3 = tf.keras.layers.LeakyReLU(alpha=0.1)(B3)\n",
    "P3 = tf.keras.layers.MaxPool2D(pool_size=[2,2], strides=[2,2], padding=\"same\")(A3)\n",
    "\n",
    "Z4 = tf.keras.layers.Conv2D(filters=16, kernel_size=[9,9], strides=[1,1], padding=\"same\", dilation_rate=[1,1])(P3)\n",
    "B4 = tf.keras.layers.BatchNormalization(axis=3)(Z4)\n",
    "A4 = tf.keras.layers.LeakyReLU(alpha=0.1)(B4)\n",
    "P4 = tf.keras.layers.MaxPool2D(pool_size=[2,2], strides=[2,2], padding=\"same\")(A4)\n",
    "\n",
    "Z5 = tf.keras.layers.Conv2D(filters=16, kernel_size=[9,9], strides=[1,1], padding=\"same\", dilation_rate=[1,1])(P4)\n",
    "B5 = tf.keras.layers.BatchNormalization(axis=3)(Z5)\n",
    "A5 = tf.keras.layers.LeakyReLU(alpha=0.1)(B5)\n",
    "P5 = tf.keras.layers.MaxPool2D(pool_size=[2,2], strides=[2,2], padding=\"same\")(A5)\n",
    "\n",
    "Z6 = tf.keras.layers.Conv2D(filters=16, kernel_size=[9,9], strides=[1,1], padding=\"same\", dilation_rate=[1,1])(P5)\n",
    "B6 = tf.keras.layers.BatchNormalization(axis=3)(Z6)\n",
    "A6 = tf.keras.layers.LeakyReLU(alpha=0.1)(B6)\n",
    "P6 = tf.keras.layers.MaxPool2D(pool_size=[2,2], strides=[2,2], padding=\"same\")(A6)\n",
    "\n",
    "submodel = tf.keras.models.Model(inputs=X, outputs=P6) # Keras 2.2.4 from TensorFlow 2.1.0\n",
    "submodel.compile(optimizer=tf.keras.optimizers.Adam(learning_rate=0.01, clipvalue=1.0), loss=tf.keras.losses.MeanSquaredError(), metrics=['accuracy'])\n",
    "submodel.summary()"
   ]
  },
  {
   "cell_type": "code",
   "execution_count": 10,
   "metadata": {},
   "outputs": [],
   "source": [
    "for i, layer in enumerate(submodel.layers[1:]): # except input layer\n",
    "    layer_weights = model.layers[i].get_weights()\n",
    "    submodel.layers[i].set_weights(layer_weights)"
   ]
  },
  {
   "cell_type": "code",
   "execution_count": 11,
   "metadata": {},
   "outputs": [],
   "source": [
    "submodel.save(\"output/submodel-v3.0.h5\")"
   ]
  },
  {
   "cell_type": "code",
   "execution_count": 12,
   "metadata": {},
   "outputs": [],
   "source": [
    "def predict(img):\n",
    "    inp_img = img.reshape(1, img.shape[0], img.shape[1], 1)\n",
    "    pred_img = submodel.predict(inp_img)\n",
    "    return pred_img"
   ]
  },
  {
   "cell_type": "markdown",
   "metadata": {},
   "source": [
    "## 5. Verify"
   ]
  },
  {
   "cell_type": "code",
   "execution_count": 13,
   "metadata": {},
   "outputs": [],
   "source": [
    "test_batch = load_batch(mbatch_test_idx[0])\n",
    "prepare_batch(test_batch)"
   ]
  },
  {
   "cell_type": "code",
   "execution_count": 14,
   "metadata": {},
   "outputs": [
    {
     "data": {
      "image/png": "[encoded data removed]",
      "text/plain": [
       "<Figure size 432x288 with 16 Axes>"
      ]
     },
     "metadata": {
      "needs_background": "light"
     },
     "output_type": "display_data"
    }
   ],
   "source": [
    "y_pred = predict(test_batch['X'][0])\n",
    "for i in range(y_pred.shape[3]):\n",
    "    plt.subplot(4, 4, i + 1)\n",
    "    plt.imshow(y_pred[0, :, :, i])"
   ]
  },
  {
   "cell_type": "code",
   "execution_count": null,
   "metadata": {},
   "outputs": [],
   "source": []
  }
 ],
 "metadata": {
  "kernelspec": {
   "display_name": "Python 3",
   "language": "python",
   "name": "python3"
  },
  "language_info": {
   "codemirror_mode": {
    "name": "ipython",
    "version": 3
   },
   "file_extension": ".py",
   "mimetype": "text/x-python",
   "name": "python",
   "nbconvert_exporter": "python",
   "pygments_lexer": "ipython3",
   "version": "3.7.6"
  }
 },
 "nbformat": 4,
 "nbformat_minor": 4
}
